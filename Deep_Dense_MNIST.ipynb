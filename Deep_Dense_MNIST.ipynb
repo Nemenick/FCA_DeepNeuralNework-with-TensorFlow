{
  "cells": [
    {
      "cell_type": "markdown",
      "id": "89374e46",
      "metadata": {
        "id": "89374e46"
      },
      "source": [
        "# Introduction to MNIST\n",
        "Here we build a <b>feedforward Neural Network</b> made up of <b>Fully Connected</b> layers (called <b>Dense</b> layers in Keras)<br>\n",
        "to classify the handwritten digits of the MNIST dataset\n"
      ]
    },
    {
      "cell_type": "markdown",
      "id": "0d8c41bf",
      "metadata": {},
      "source": [
        "The **MNIST** (Modified National Institute of Standards and Technology) dataset is a classic benchmark in the field of machine learning and computer vision. It consists of:\n",
        "\n",
        "- **60,000** training images\n",
        "- **10,000** test images\n",
        "- All are **grayscale** handwritten digits from **0 to 9**\n",
        "- Each image is **28x28 pixels**\n",
        "\n",
        "Why MNIST?\n",
        "\n",
        "MNIST is widely used for:\n",
        "\n",
        "- Learning and prototyping image classification models\n",
        "- Exploring neural network architectures\n",
        "\n",
        "\n",
        "It's a great starting point for building and training deep learning models using fully connected or convolutional neural networks."
      ]
    },
    {
      "cell_type": "code",
      "execution_count": 32,
      "id": "97e717d0",
      "metadata": {
        "id": "97e717d0"
      },
      "outputs": [],
      "source": [
        "# Usual libraries\n",
        "import numpy as np\n",
        "from matplotlib import pyplot as plt\n",
        "import tensorflow as tf\n",
        "from tensorflow import keras\n",
        "from tensorflow.keras import models\n",
        "from keras.layers import Dense, Input\n",
        "# library useful for preprocessing\n",
        "from tensorflow.keras.utils import to_categorical\n",
        "\n"
      ]
    },
    {
      "cell_type": "markdown",
      "id": "5d7ac79b",
      "metadata": {
        "id": "5d7ac79b"
      },
      "source": [
        "# Load and inspect MNIST dataset <br>\n",
        "The MNIST dataset is included in **TensorFlow**, we can retrieve it from TF:"
      ]
    },
    {
      "cell_type": "code",
      "execution_count": 33,
      "id": "a38602df",
      "metadata": {
        "id": "a38602df"
      },
      "outputs": [],
      "source": [
        "# 1. Load dataset\n",
        "(x_train, y_train), (x_test, y_test) = tf.keras.datasets.mnist.load_data()\n",
        "\n",
        "# 2. Preprocess: Flatten images and normalize to [0, 1]\n",
        "x_train = x_train.reshape(-1, 28*28).astype(\"float32\") / 255.0\n",
        "x_test = x_test.reshape(-1, 28*28).astype(\"float32\") / 255.0\n"
      ]
    },
    {
      "cell_type": "code",
      "execution_count": null,
      "id": "sYe3heAzqhYz",
      "metadata": {
        "colab": {
          "base_uri": "https://localhost:8080/"
        },
        "id": "sYe3heAzqhYz",
        "outputId": "ce2524cb-e1ac-4f36-ed19-392e0c2d6378"
      },
      "outputs": [],
      "source": [
        "y_train"
      ]
    },
    {
      "cell_type": "code",
      "execution_count": null,
      "id": "cxln8_pEq1d8",
      "metadata": {
        "colab": {
          "base_uri": "https://localhost:8080/"
        },
        "id": "cxln8_pEq1d8",
        "outputId": "6eae4dd1-f2c3-443d-d9cc-94f3a82cacc4"
      },
      "outputs": [],
      "source": [
        "# Convert to one-hot encoding\n",
        "y_train_oh = to_categorical(y_train, num_classes=10)\n",
        "y_test_oh = to_categorical(y_test, num_classes=10)\n",
        "\n",
        "y_train[0], y_train_oh[0]"
      ]
    },
    {
      "cell_type": "markdown",
      "id": "_biQiQXe2Dr0",
      "metadata": {
        "id": "_biQiQXe2Dr0"
      },
      "source": [
        "### Data inspection\n"
      ]
    },
    {
      "cell_type": "code",
      "execution_count": null,
      "id": "4990cfa1",
      "metadata": {
        "colab": {
          "base_uri": "https://localhost:8080/"
        },
        "id": "4990cfa1",
        "outputId": "8fb4adcb-2896-4213-a043-33d8315e16d7"
      },
      "outputs": [],
      "source": [
        "print(\"Training set shape:\", x_train.shape)\n",
        "print(\"Test set shape:\", x_test.shape)"
      ]
    },
    {
      "cell_type": "code",
      "execution_count": null,
      "id": "48d471c7",
      "metadata": {
        "colab": {
          "base_uri": "https://localhost:8080/"
        },
        "id": "48d471c7",
        "outputId": "282bbcfe-77f7-4fb4-c0ff-d9f308cbaa51"
      },
      "outputs": [],
      "source": [
        "# Show class distribution\n",
        "unique, counts = np.unique(y_train, return_counts=True)\n",
        "print(\"Class distribution (train):\")\n",
        "for digit, count in zip(unique, counts):\n",
        "    print(f\"Digit {digit}: {count} samples\")"
      ]
    },
    {
      "cell_type": "code",
      "execution_count": null,
      "id": "xTpptPNl4Y0V",
      "metadata": {
        "colab": {
          "base_uri": "https://localhost:8080/",
          "height": 385
        },
        "id": "xTpptPNl4Y0V",
        "outputId": "29de27e1-e1ac-43bc-bad2-dab9cf3a7aac"
      },
      "outputs": [],
      "source": [
        "# Show a few sample images\n",
        "plt.figure(figsize=(8, 4))\n",
        "for i in range(10):\n",
        "    plt.subplot(2, 5, i+1)\n",
        "    plt.imshow(x_train[i].reshape(28,28), cmap=\"gray\")\n",
        "    plt.title(f\"Label: {y_train[i]}\")\n",
        "    plt.axis(\"off\")\n",
        "plt.tight_layout()\n",
        "plt.show()"
      ]
    },
    {
      "cell_type": "markdown",
      "id": "70ee58c0",
      "metadata": {
        "id": "70ee58c0"
      },
      "source": [
        "# Build and train my network\n",
        "Neural network made up of only FullyConnected layers (or Dense layers)<br>\n",
        "The TensorFlow implementation is very fast during training and it is very easy to generalize<br>\n",
        "\n",
        "Try to:\n",
        "<ul>\n",
        "<li> Change the hidden layer size and study the effect [(2), (5), (10), (25)]</li>\n",
        "<li> Add more layers. For example add the line \"Dense(5, activation=\"relu\"),\" after the first Dense layer</li>\n",
        "<li> Add Early Stopping</li>\n",
        "<li> Change activation function of hidden layers: sigmoid -> relu</li>\n",
        "</ul>\n"
      ]
    },
    {
      "cell_type": "code",
      "execution_count": null,
      "id": "5e3b6721",
      "metadata": {
        "id": "5e3b6721"
      },
      "outputs": [],
      "source": [
        "model = models.Sequential([\n",
        "    Input(shape=(784,)),\n",
        "    # build your model here :) (using dense layers, caution on output layer activation function and number of neurons)\n",
        "])\n",
        "\n",
        "# 4. Compile the model\n",
        "model.compile(optimizer='adam',\n",
        "              loss='categorical_crossentropy',\n",
        "              metrics=['accuracy'])\n"
      ]
    },
    {
      "cell_type": "code",
      "execution_count": null,
      "id": "f4623176",
      "metadata": {
        "colab": {
          "base_uri": "https://localhost:8080/",
          "height": 606
        },
        "id": "f4623176",
        "outputId": "09c0eb0f-84d5-4fd9-fb2a-e16ec7c63e8d"
      },
      "outputs": [],
      "source": [
        "keras.utils.plot_model(model, to_file='model_plot.png', show_shapes=True, show_layer_names=True)"
      ]
    },
    {
      "cell_type": "code",
      "execution_count": null,
      "id": "07886d32",
      "metadata": {
        "colab": {
          "base_uri": "https://localhost:8080/"
        },
        "id": "07886d32",
        "outputId": "a90709bc-309b-458d-c940-bc71759ac35c"
      },
      "outputs": [],
      "source": [
        "# Start my training -\n",
        "batches, epoche, pazienza = 32, 20, 5\n",
        "storia = model.fit(x_train, y_train_oh,\n",
        "          epochs=epoche,\n",
        "          batch_size=batches,\n",
        "          validation_split=0.1)\n",
        "\n",
        "print(\"\\n\",storia.history.keys())"
      ]
    },
    {
      "cell_type": "markdown",
      "id": "f5cddce7",
      "metadata": {
        "id": "f5cddce7"
      },
      "source": [
        "# Plots of training history and test my network"
      ]
    },
    {
      "cell_type": "code",
      "execution_count": null,
      "id": "648a6825",
      "metadata": {
        "colab": {
          "base_uri": "https://localhost:8080/",
          "height": 507
        },
        "id": "648a6825",
        "outputId": "d4ad6b0b-03d0-4309-d8de-f2837a8516c9"
      },
      "outputs": [],
      "source": [
        "\"\"\"################################################### Plots ####################################################\"\"\"\n",
        "\n",
        "loss_train = storia.history[\"loss\"]\n",
        "loss_val = storia.history[\"val_loss\"]\n",
        "acc_train = storia.history[\"accuracy\"]\n",
        "acc_val = storia.history[\"val_accuracy\"]\n",
        "\n",
        "# Create a figure with 2 subplots (1 row, 2 columns)\n",
        "fig, (ax1, ax2) = plt.subplots(1, 2, figsize=(12, 5))\n",
        "\n",
        "# Plot Accuracy on the first axis (ax1)\n",
        "ax1.plot(range(len(acc_train)), acc_train, label=\"acc_train\")\n",
        "ax1.plot(range(len(acc_val)), acc_val, label=\"acc_val\")\n",
        "ax1.set_xlabel('Epoch')\n",
        "ax1.set_ylabel('Accuracy')\n",
        "ax1.set_title('Accuracy vs Epoch')\n",
        "ax1.legend()\n",
        "\n",
        "# Plot Loss on the second axis (ax2)\n",
        "ax2.plot(range(len(loss_train)), loss_train, label=\"loss_train\")\n",
        "ax2.plot(range(len(loss_val)), loss_val, label=\"loss_val\")\n",
        "ax2.set_yscale('log')  # Log scale for loss\n",
        "ax2.set_xlabel('Epoch')\n",
        "ax2.set_ylabel('Loss (log scale)')\n",
        "ax2.set_title('Loss vs Epoch')\n",
        "ax2.legend()\n",
        "\n",
        "plt.tight_layout()\n",
        "\n",
        "\n",
        "#plt.savefig(\"Loss_Accuracy_Ising2d.png\")\n",
        "\n",
        "# Show the plot\n",
        "plt.show()\n",
        "\n"
      ]
    },
    {
      "cell_type": "code",
      "execution_count": null,
      "id": "a011c0a1",
      "metadata": {
        "colab": {
          "base_uri": "https://localhost:8080/"
        },
        "id": "a011c0a1",
        "outputId": "acdb8979-13b1-4ccf-fcc6-b3255eab08a9"
      },
      "outputs": [],
      "source": [
        "\"\"\"################################################### Test ####################################################\"\"\"\n",
        "# Evaluate the model on the test set\n",
        "\n",
        "test_loss, test_acc = model.evaluate(x_test, y_test_oh)\n",
        "print(f\"Test accuracy: {test_acc:.4f}\")"
      ]
    },
    {
      "cell_type": "code",
      "execution_count": null,
      "id": "HSOmOdVMs-pE",
      "metadata": {
        "colab": {
          "base_uri": "https://localhost:8080/",
          "height": 372
        },
        "id": "HSOmOdVMs-pE",
        "outputId": "dec8a7d0-b09e-43f1-e1c7-d8cd76f6b0af"
      },
      "outputs": [],
      "source": [
        "predictions = model.predict(x_test)\n",
        "# Show a few sample images - predicted vs real labels\n",
        "plt.figure(figsize=(8, 4))\n",
        "for i in range(10):\n",
        "    plt.subplot(2, 5, i+1)\n",
        "    plt.imshow(x_test[i].reshape(28,28), cmap=\"gray\")\n",
        "    plt.title(f\"Label: {y_test[i]}\\n Prediction: {np.argmax(predictions[i])}\")\n",
        "    plt.axis(\"off\")\n",
        "\n",
        "plt.show()"
      ]
    }
  ],
  "metadata": {
    "colab": {
      "provenance": []
    },
    "kernelspec": {
      "display_name": "CFMenvironment22",
      "language": "python",
      "name": "python3"
    },
    "language_info": {
      "codemirror_mode": {
        "name": "ipython",
        "version": 3
      },
      "file_extension": ".py",
      "mimetype": "text/x-python",
      "name": "python",
      "nbconvert_exporter": "python",
      "pygments_lexer": "ipython3",
      "version": "3.8.18"
    }
  },
  "nbformat": 4,
  "nbformat_minor": 5
}
