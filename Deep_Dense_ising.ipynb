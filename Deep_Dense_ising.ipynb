{
  "cells": [
    {
      "cell_type": "markdown",
      "id": "89374e46",
      "metadata": {
        "id": "89374e46"
      },
      "source": [
        "<big> Here we build a <b>feedforward Neural Network</b> made up of <b>Fully Connected</b> layers (called <b>Dense</b> layers in Keras)<br>\n",
        "\n",
        "Tensorflow improves the coding efficiency<br>\n",
        "Code becomes much more<l>\n",
        "<li>Readable;\n",
        "<li>Easier to understand\n",
        "<li>Easier to modify and adapt.\n",
        "</l><br>\n",
        "\n",
        "It also allows to use <b>GPU acceleration</b>, in the case you have a GPU available and correct drivers and libraries.<br>\n",
        "The <b>Keras API</b> is a high-level API for building and training deep learning models leveraging TensorFlow.<br>"
      ]
    },
    {
      "cell_type": "code",
      "execution_count": null,
      "id": "97e717d0",
      "metadata": {
        "id": "97e717d0"
      },
      "outputs": [],
      "source": [
        "# Some libraries - do not worry about them\n",
        "import numpy as np\n",
        "from matplotlib import pyplot as plt\n",
        "import tensorflow\n",
        "from tensorflow import keras\n",
        "from keras.layers import Dense, Input\n",
        "from keras import optimizers\n",
        "from keras.callbacks import EarlyStopping\n",
        "\n",
        "# additional libraries - useful to download code and data from GitHub folder\n",
        "import requests\n",
        "import types\n",
        "from urllib.request import urlopen\n",
        "\n",
        "# URL of the GitHub repository and the module name\n",
        "git_path = 'https://raw.githubusercontent.com/Nemenick/FCA_DeepNeuralNework-with-TensorFlow/main/'\n",
        "module_name = 'Ising2d'\n",
        "# Download the code\n",
        "response = requests.get(git_path + module_name + \".py\")\n",
        "code = response.text\n",
        "# Create a module object\n",
        "Ising2d = types.ModuleType(module_name)\n",
        "exec(code, Ising2d.__dict__)\n",
        "\n",
        "Termalizza = Ising2d.Termalizza  # funzione che mi termalizza 1 sola configurazione in 2D"
      ]
    },
    {
      "cell_type": "markdown",
      "id": "5d7ac79b",
      "metadata": {
        "id": "5d7ac79b"
      },
      "source": [
        "# Generate (or Load) my Data"
      ]
    },
    {
      "cell_type": "markdown",
      "id": "b8d7886b",
      "metadata": {
        "id": "b8d7886b"
      },
      "source": [
        "\n",
        "<ul>\n",
        "<li>a name of an example file accepted is 35conf4.dat<br>\n",
        "<li>Here 35 corresponds to the number of spin per dimension (35x35)</li>\n",
        "<li>and 4 corresponds to ntrain (or ntest or nval...) and it is the number of Temperature used.</li>\n",
        "<li>For each temperature I sample 20 configuration, so in 35conf4.dat i have 4x20=80 spin conf. (1 conf. is 1 raw)</li>\n",
        "<li>TODO read_file = True only if alredy generated my config.: \"(n)conf(ntrain).dat\" and \"(n)conf(ntest).dat\" alredy present</li>\n",
        "<li>TODO if readfile = false at first I generate my configurations (it takes a while...)</li>\n",
        "</ul>"
      ]
    },
    {
      "cell_type": "code",
      "execution_count": null,
      "id": "6da3292e",
      "metadata": {
        "id": "6da3292e"
      },
      "outputs": [],
      "source": [
        "# Some initial parameters\n",
        "n=35                # number of spins in one direction\n",
        "ntrain=14           # number of training configurations\n",
        "nval=12             # number of validation configurations\n",
        "ntest=10            # number of test configurations\n",
        "read_file=True      # if True read the configurations from file, if False generate them. The configurations to be read must exist somewhere..."
      ]
    },
    {
      "cell_type": "code",
      "execution_count": null,
      "id": "a38602df",
      "metadata": {
        "id": "a38602df"
      },
      "outputs": [],
      "source": [
        "data, data_val, data_test = [], [], []\n",
        "y, y_val, y_test = [], [], []\n",
        "if not read_file:\n",
        "    # In this section I generate my data rather than loading them\n",
        "    t = [0.1 + 3 / ntrain * i for i in range(ntrain // 2)] + [4 + 40 / ntrain * i for i in range(ntrain // 2)]\n",
        "    tc = 2 / np.log(1 + np.sqrt(2))\n",
        "    for temp in t:\n",
        "        spin = Termalizza(temp, L=n)\n",
        "        for _ in range(10):\n",
        "            if temp < tc:\n",
        "                y.append(0)\n",
        "            else:\n",
        "                y.append(1)\n",
        "            data.append([])\n",
        "            Termalizza(temp, L=n, spin=spin, equilibrato=True)\n",
        "            for i in range(n):\n",
        "                for j in range(n):\n",
        "                    data[-1].append(spin[i + 1][j + 1])\n",
        "    print(\"Ho generato tutte le \\\"training\\\" configurazioni\")\n",
        "    data = np.array(data)\n",
        "\n",
        "    # Now i generate validation data\n",
        "    t = [0.1 + 3 / nval * i for i in range(nval // 2)] + [4 + 40 / nval * i for i in range(nval // 2)]\n",
        "    tc = 2 / np.log(1 + np.sqrt(2))\n",
        "    for temp in t:\n",
        "        spin = Termalizza(temp, L=n)\n",
        "        for _ in range(10):\n",
        "            if temp < tc:\n",
        "                y_val.append(0)\n",
        "            else:\n",
        "                y_val.append(1)\n",
        "            data_val.append([])\n",
        "            Termalizza(temp, L=n, spin=spin, equilibrato=True)\n",
        "            for i in range(n):\n",
        "                for j in range(n):\n",
        "                    data_val[-1].append(spin[i + 1][j + 1])\n",
        "    print(\"Ho generato tutte le \\\"training\\\" configurazioni\")\n",
        "    data_val = np.array(data_val)\n",
        "\n",
        "    # Now i generate my test data\n",
        "    t = [0.1 + 3 / nval * i for i in range(nval // 2)] + [4 + 40 / nval * i for i in range(nval // 2)]\n",
        "    tc = 2 / np.log(1 + np.sqrt(2))\n",
        "    for temp in t:\n",
        "        spin = Termalizza(temp, L=n)\n",
        "        for _ in range(10):\n",
        "            if temp < tc:\n",
        "                y_test.append(0)\n",
        "            else:\n",
        "                y_test.append(1)\n",
        "            data_test.append([])\n",
        "            Termalizza(temp, L=n, spin=spin, equilibrato=True)\n",
        "            for i in range(n):\n",
        "                for j in range(n):\n",
        "                    data_test[-1].append(spin[i + 1][j + 1])\n",
        "    print(\"Ho generato tutte le \\\"training\\\" configurazioni\")\n",
        "    data_test = np.array(data_test)\n",
        "\n",
        "else:\n",
        "    # if read_file I load my data than generating them! (files have to exist before I lunch this section)\n",
        "    data = np.loadtxt(urlopen(git_path + str(n) + \"conf\" + str(ntrain) + \".dat\"))\n",
        "    y = np.loadtxt(urlopen(git_path + str(n) + \"conf\" + str(ntrain) + \"y.dat\"))\n",
        "\n",
        "    data_val = np.loadtxt(urlopen(git_path + str(n) + \"conf\" + str(nval) + \".dat\"))\n",
        "    y_val = np.loadtxt(urlopen(git_path + str(n) + \"conf\" + str(nval) + \"y.dat\"))\n",
        "\n",
        "\n",
        "    data_test = np.loadtxt(urlopen(git_path + str(n) + \"conf\" + str(ntest) + \".dat\"))\n",
        "    y_test = np.loadtxt(urlopen(git_path + str(n) + \"conf\" + str(ntest) + \"y.dat\"))\n",
        "\n"
      ]
    },
    {
      "cell_type": "markdown",
      "id": "_biQiQXe2Dr0",
      "metadata": {
        "id": "_biQiQXe2Dr0"
      },
      "source": [
        "# Data inspection\n"
      ]
    },
    {
      "cell_type": "code",
      "execution_count": null,
      "id": "xTpptPNl4Y0V",
      "metadata": {
        "colab": {
          "base_uri": "https://localhost:8080/"
        },
        "id": "xTpptPNl4Y0V",
        "outputId": "87a88068-0802-47f5-85a1-414a51716003"
      },
      "outputs": [
        {
          "name": "stdout",
          "output_type": "stream",
          "text": [
            "(280, 1225)\n",
            "(240, 1225)\n",
            "(200, 1225)\n"
          ]
        }
      ],
      "source": [
        "print(data.shape)\n",
        "print(data_val.shape)\n",
        "print(data_test.shape)"
      ]
    },
    {
      "cell_type": "code",
      "execution_count": null,
      "id": "d5ZWCv_62Ij7",
      "metadata": {
        "colab": {
          "base_uri": "https://localhost:8080/",
          "height": 450
        },
        "id": "d5ZWCv_62Ij7",
        "outputId": "b4dfcc85-0afd-45ce-9092-a5fdbfc209fb"
      },
      "outputs": [
        {
          "data": {
            "text/plain": [
              "<matplotlib.image.AxesImage at 0x7fbf71d0ac50>"
            ]
          },
          "execution_count": 46,
          "metadata": {},
          "output_type": "execute_result"
        },
        {
          "data": {
            "image/png": "[encoded data removed]",
            "text/plain": [
              "<Figure size 640x480 with 4 Axes>"
            ]
          },
          "metadata": {},
          "output_type": "display_data"
        }
      ],
      "source": [
        "index1 = 50\n",
        "index2 = 135\n",
        "index3 = 141\n",
        "index4 = 269\n",
        "data_inspected1 = data[index1].reshape(n,n)\n",
        "data_inspected2 = data[index2].reshape(n,n)\n",
        "data_inspected3 = data[index3].reshape(n,n)\n",
        "data_inspected4 = data[index4].reshape(n,n)\n",
        "\n",
        "fig, ax = plt.subplots(2,2)\n",
        "ax[0][0].imshow(data_inspected1)\n",
        "ax[0][1].imshow(data_inspected2)\n",
        "ax[1][0].imshow(data_inspected3)\n",
        "ax[1][1].imshow(data_inspected4)\n",
        "\n",
        "\n",
        "\n"
      ]
    },
    {
      "cell_type": "markdown",
      "id": "AgJSlTRZ8hls",
      "metadata": {
        "id": "AgJSlTRZ8hls"
      },
      "source": [
        "# Data Augmentation (optional)\n"
      ]
    },
    {
      "cell_type": "markdown",
      "source": [
        "Here, we extract as much as possible from our existing data!<br>\n",
        "Data augmentation is the process of creating new training data by applying transformations (rotation, flipping, noise...) to existing data to improve model robustness and generalization.<br>\n",
        "\n",
        "Physics analogy: exploiting all symmetries of the system."
      ],
      "metadata": {
        "id": "ahmlXAynXYkw"
      },
      "id": "ahmlXAynXYkw"
    },
    {
      "cell_type": "code",
      "execution_count": null,
      "id": "75RumVC585RK",
      "metadata": {
        "id": "75RumVC585RK"
      },
      "outputs": [],
      "source": [
        "data_flipped = -data\n",
        "y_flipped = 1-y\n",
        "\n",
        "data = np.concatenate((data,data_flipped))\n",
        "y = np.concatenate((y,y_flipped))"
      ]
    },
    {
      "cell_type": "code",
      "execution_count": null,
      "id": "OaxymqL895ZB",
      "metadata": {
        "colab": {
          "base_uri": "https://localhost:8080/",
          "height": 450
        },
        "id": "OaxymqL895ZB",
        "outputId": "5868c301-dad6-4c8f-ea08-285aa6bd94a8"
      },
      "outputs": [
        {
          "data": {
            "text/plain": [
              "<matplotlib.image.AxesImage at 0x7fbf675797d0>"
            ]
          },
          "execution_count": 94,
          "metadata": {},
          "output_type": "execute_result"
        },
        {
          "data": {
            "image/png": "[encoded data removed]",
            "text/plain": [
              "<Figure size 640x480 with 4 Axes>"
            ]
          },
          "metadata": {},
          "output_type": "display_data"
        }
      ],
      "source": [
        "index1 = 50\n",
        "index2 = 135\n",
        "index3 = 141\n",
        "index4 = 269\n",
        "data_inspected_flipped1 = data_flipped[index1].reshape(n,n)\n",
        "data_inspected_flipped2 = data_flipped[index2].reshape(n,n)\n",
        "data_inspected_flipped3 = data_flipped[index3].reshape(n,n)\n",
        "data_inspected_flipped4 = data_flipped[index4].reshape(n,n)\n",
        "\n",
        "fig, ax = plt.subplots(2,2)\n",
        "ax[0][0].imshow(data_inspected_flipped1)\n",
        "ax[0][1].imshow(data_inspected_flipped2)\n",
        "ax[1][0].imshow(data_inspected_flipped3)\n",
        "ax[1][1].imshow(data_inspected_flipped4)"
      ]
    },
    {
      "cell_type": "markdown",
      "id": "70ee58c0",
      "metadata": {
        "id": "70ee58c0"
      },
      "source": [
        "# Build and train my network\n",
        "Neural network made up of only FullyConnected layers (or Dense layers)<br>\n",
        "The TensorFlow implementation is very fast during training and it is very easy to generalize<br>\n",
        "\n",
        "Try to:\n",
        "<ul>\n",
        "<li> Change the hidden layer size and study the effect [(2), (5), (10), (25)]</li>\n",
        "<li> Add more layers. For example add the line \"Dense(5, activation=\"relu\"),\" after the first Dense layer</li>\n",
        "<li> Add Early Stopping</li>\n",
        "<li> Change activation function of hidden layers: sigmoid -> relu</li>\n",
        "</ul>\n"
      ]
    },
    {
      "cell_type": "code",
      "execution_count": null,
      "id": "5e3b6721",
      "metadata": {
        "colab": {
          "base_uri": "https://localhost:8080/",
          "height": 238
        },
        "id": "5e3b6721",
        "outputId": "a8d77e6c-9e36-4fab-f6de-a2fa263a3ca2"
      },
      "outputs": [
        {
          "data": {
            "text/html": [
              "<pre style=\"white-space:pre;overflow-x:auto;line-height:normal;font-family:Menlo,'DejaVu Sans Mono',consolas,'Courier New',monospace\"><span style=\"font-weight: bold\">Model: \"sequential_15\"</span>\n",
              "</pre>\n"
            ],
            "text/plain": [
              "\u001b[1mModel: \"sequential_15\"\u001b[0m\n"
            ]
          },
          "metadata": {},
          "output_type": "display_data"
        },
        {
          "data": {
            "text/html": [
              "<pre style=\"white-space:pre;overflow-x:auto;line-height:normal;font-family:Menlo,'DejaVu Sans Mono',consolas,'Courier New',monospace\">┏━━━━━━━━━━━━━━━━━━━━━━━━━━━━━━━━━┳━━━━━━━━━━━━━━━━━━━━━━━━┳━━━━━━━━━━━━━━━┓\n",
              "┃<span style=\"font-weight: bold\"> Layer (type)                    </span>┃<span style=\"font-weight: bold\"> Output Shape           </span>┃<span style=\"font-weight: bold\">       Param # </span>┃\n",
              "┡━━━━━━━━━━━━━━━━━━━━━━━━━━━━━━━━━╇━━━━━━━━━━━━━━━━━━━━━━━━╇━━━━━━━━━━━━━━━┩\n",
              "│ dense_30 (<span style=\"color: #0087ff; text-decoration-color: #0087ff\">Dense</span>)                │ (<span style=\"color: #00d7ff; text-decoration-color: #00d7ff\">None</span>, <span style=\"color: #00af00; text-decoration-color: #00af00\">100</span>)            │       <span style=\"color: #00af00; text-decoration-color: #00af00\">122,600</span> │\n",
              "├─────────────────────────────────┼────────────────────────┼───────────────┤\n",
              "│ dense_31 (<span style=\"color: #0087ff; text-decoration-color: #0087ff\">Dense</span>)                │ (<span style=\"color: #00d7ff; text-decoration-color: #00d7ff\">None</span>, <span style=\"color: #00af00; text-decoration-color: #00af00\">10</span>)             │         <span style=\"color: #00af00; text-decoration-color: #00af00\">1,010</span> │\n",
              "├─────────────────────────────────┼────────────────────────┼───────────────┤\n",
              "│ dense_32 (<span style=\"color: #0087ff; text-decoration-color: #0087ff\">Dense</span>)                │ (<span style=\"color: #00d7ff; text-decoration-color: #00d7ff\">None</span>, <span style=\"color: #00af00; text-decoration-color: #00af00\">1</span>)              │            <span style=\"color: #00af00; text-decoration-color: #00af00\">11</span> │\n",
              "└─────────────────────────────────┴────────────────────────┴───────────────┘\n",
              "</pre>\n"
            ],
            "text/plain": [
              "┏━━━━━━━━━━━━━━━━━━━━━━━━━━━━━━━━━┳━━━━━━━━━━━━━━━━━━━━━━━━┳━━━━━━━━━━━━━━━┓\n",
              "┃\u001b[1m \u001b[0m\u001b[1mLayer (type)                   \u001b[0m\u001b[1m \u001b[0m┃\u001b[1m \u001b[0m\u001b[1mOutput Shape          \u001b[0m\u001b[1m \u001b[0m┃\u001b[1m \u001b[0m\u001b[1m      Param #\u001b[0m\u001b[1m \u001b[0m┃\n",
              "┡━━━━━━━━━━━━━━━━━━━━━━━━━━━━━━━━━╇━━━━━━━━━━━━━━━━━━━━━━━━╇━━━━━━━━━━━━━━━┩\n",
              "│ dense_30 (\u001b[38;5;33mDense\u001b[0m)                │ (\u001b[38;5;45mNone\u001b[0m, \u001b[38;5;34m100\u001b[0m)            │       \u001b[38;5;34m122,600\u001b[0m │\n",
              "├─────────────────────────────────┼────────────────────────┼───────────────┤\n",
              "│ dense_31 (\u001b[38;5;33mDense\u001b[0m)                │ (\u001b[38;5;45mNone\u001b[0m, \u001b[38;5;34m10\u001b[0m)             │         \u001b[38;5;34m1,010\u001b[0m │\n",
              "├─────────────────────────────────┼────────────────────────┼───────────────┤\n",
              "│ dense_32 (\u001b[38;5;33mDense\u001b[0m)                │ (\u001b[38;5;45mNone\u001b[0m, \u001b[38;5;34m1\u001b[0m)              │            \u001b[38;5;34m11\u001b[0m │\n",
              "└─────────────────────────────────┴────────────────────────┴───────────────┘\n"
            ]
          },
          "metadata": {},
          "output_type": "display_data"
        },
        {
          "data": {
            "text/html": [
              "<pre style=\"white-space:pre;overflow-x:auto;line-height:normal;font-family:Menlo,'DejaVu Sans Mono',consolas,'Courier New',monospace\"><span style=\"font-weight: bold\"> Total params: </span><span style=\"color: #00af00; text-decoration-color: #00af00\">123,621</span> (482.89 KB)\n",
              "</pre>\n"
            ],
            "text/plain": [
              "\u001b[1m Total params: \u001b[0m\u001b[38;5;34m123,621\u001b[0m (482.89 KB)\n"
            ]
          },
          "metadata": {},
          "output_type": "display_data"
        },
        {
          "data": {
            "text/html": [
              "<pre style=\"white-space:pre;overflow-x:auto;line-height:normal;font-family:Menlo,'DejaVu Sans Mono',consolas,'Courier New',monospace\"><span style=\"font-weight: bold\"> Trainable params: </span><span style=\"color: #00af00; text-decoration-color: #00af00\">123,621</span> (482.89 KB)\n",
              "</pre>\n"
            ],
            "text/plain": [
              "\u001b[1m Trainable params: \u001b[0m\u001b[38;5;34m123,621\u001b[0m (482.89 KB)\n"
            ]
          },
          "metadata": {},
          "output_type": "display_data"
        },
        {
          "data": {
            "text/html": [
              "<pre style=\"white-space:pre;overflow-x:auto;line-height:normal;font-family:Menlo,'DejaVu Sans Mono',consolas,'Courier New',monospace\"><span style=\"font-weight: bold\"> Non-trainable params: </span><span style=\"color: #00af00; text-decoration-color: #00af00\">0</span> (0.00 B)\n",
              "</pre>\n"
            ],
            "text/plain": [
              "\u001b[1m Non-trainable params: \u001b[0m\u001b[38;5;34m0\u001b[0m (0.00 B)\n"
            ]
          },
          "metadata": {},
          "output_type": "display_data"
        }
      ],
      "source": [
        "rete1 = tensorflow.keras.models.Sequential([\n",
        "    Input(shape=(data.shape[1],)),\n",
        "    Dense(1, activation=\"sigmoid\")])\n",
        "\n",
        "# Parameters of the SGD optimizer\n",
        "lr = 0.002\n",
        "\n",
        "rete1.compile(\n",
        "    optimizer=optimizers.SGD(learning_rate=lr),\n",
        "    loss=\"binary_crossentropy\",\n",
        "    metrics=['accuracy'])\n",
        "rete1.summary()\n",
        "\n",
        "# Exercise: compute the number of parameters in the model"
      ]
    },
    {
      "cell_type": "code",
      "execution_count": null,
      "id": "f4623176",
      "metadata": {
        "colab": {
          "base_uri": "https://localhost:8080/",
          "height": 606
        },
        "id": "f4623176",
        "outputId": "8c50ac88-2c60-4d0d-d295-d8663f639049"
      },
      "outputs": [
        {
          "data": {
            "image/png": "[encoded data removed]",
            "text/plain": [
              "<IPython.core.display.Image object>"
            ]
          },
          "execution_count": 99,
          "metadata": {},
          "output_type": "execute_result"
        }
      ],
      "source": [
        "keras.utils.plot_model(rete1, to_file='model_plot.png', show_shapes=True, show_layer_names=True)"
      ]
    },
    {
      "cell_type": "code",
      "execution_count": null,
      "id": "07886d32",
      "metadata": {
        "colab": {
          "base_uri": "https://localhost:8080/"
        },
        "id": "07886d32",
        "outputId": "796b33bb-cd5e-435e-d20d-4e037edfd205"
      },
      "outputs": [
        {
          "name": "stdout",
          "output_type": "stream",
          "text": [
            "Epoch 1/120\n",
            "\u001b[1m9/9\u001b[0m \u001b[32m━━━━━━━━━━━━━━━━━━━━\u001b[0m\u001b[37m\u001b[0m \u001b[1m0s\u001b[0m 31ms/step - accuracy: 1.0000 - loss: 0.1046 - val_accuracy: 0.7625 - val_loss: 0.7390\n",
            "Epoch 2/120\n",
            "\u001b[1m9/9\u001b[0m \u001b[32m━━━━━━━━━━━━━━━━━━━━\u001b[0m\u001b[37m\u001b[0m \u001b[1m0s\u001b[0m 21ms/step - accuracy: 1.0000 - loss: 0.0147 - val_accuracy: 0.7542 - val_loss: 0.7359\n",
            "Epoch 3/120\n",
            "\u001b[1m9/9\u001b[0m \u001b[32m━━━━━━━━━━━━━━━━━━━━\u001b[0m\u001b[37m\u001b[0m \u001b[1m0s\u001b[0m 21ms/step - accuracy: 1.0000 - loss: 0.0065 - val_accuracy: 0.7500 - val_loss: 0.7394\n",
            "Epoch 4/120\n",
            "\u001b[1m9/9\u001b[0m \u001b[32m━━━━━━━━━━━━━━━━━━━━\u001b[0m\u001b[37m\u001b[0m \u001b[1m0s\u001b[0m 21ms/step - accuracy: 1.0000 - loss: 0.0054 - val_accuracy: 0.7542 - val_loss: 0.7374\n",
            "Epoch 5/120\n",
            "\u001b[1m9/9\u001b[0m \u001b[32m━━━━━━━━━━━━━━━━━━━━\u001b[0m\u001b[37m\u001b[0m \u001b[1m0s\u001b[0m 13ms/step - accuracy: 1.0000 - loss: 0.0038 - val_accuracy: 0.7542 - val_loss: 0.7325\n",
            "Epoch 6/120\n",
            "\u001b[1m9/9\u001b[0m \u001b[32m━━━━━━━━━━━━━━━━━━━━\u001b[0m\u001b[37m\u001b[0m \u001b[1m0s\u001b[0m 14ms/step - accuracy: 1.0000 - loss: 0.0037 - val_accuracy: 0.7542 - val_loss: 0.7262\n",
            "Epoch 7/120\n",
            "\u001b[1m9/9\u001b[0m \u001b[32m━━━━━━━━━━━━━━━━━━━━\u001b[0m\u001b[37m\u001b[0m \u001b[1m0s\u001b[0m 13ms/step - accuracy: 1.0000 - loss: 0.0036 - val_accuracy: 0.7542 - val_loss: 0.7198\n",
            "Epoch 8/120\n",
            "\u001b[1m9/9\u001b[0m \u001b[32m━━━━━━━━━━━━━━━━━━━━\u001b[0m\u001b[37m\u001b[0m \u001b[1m0s\u001b[0m 12ms/step - accuracy: 1.0000 - loss: 0.0031 - val_accuracy: 0.7542 - val_loss: 0.7139\n",
            "Epoch 9/120\n",
            "\u001b[1m9/9\u001b[0m \u001b[32m━━━━━━━━━━━━━━━━━━━━\u001b[0m\u001b[37m\u001b[0m \u001b[1m0s\u001b[0m 13ms/step - accuracy: 1.0000 - loss: 0.0027 - val_accuracy: 0.7583 - val_loss: 0.7083\n",
            "Epoch 10/120\n",
            "\u001b[1m9/9\u001b[0m \u001b[32m━━━━━━━━━━━━━━━━━━━━\u001b[0m\u001b[37m\u001b[0m \u001b[1m0s\u001b[0m 16ms/step - accuracy: 1.0000 - loss: 0.0027 - val_accuracy: 0.7625 - val_loss: 0.7032\n",
            "Epoch 11/120\n",
            "\u001b[1m9/9\u001b[0m \u001b[32m━━━━━━━━━━━━━━━━━━━━\u001b[0m\u001b[37m\u001b[0m \u001b[1m0s\u001b[0m 13ms/step - accuracy: 1.0000 - loss: 0.0024 - val_accuracy: 0.7625 - val_loss: 0.6983\n",
            "Epoch 12/120\n",
            "\u001b[1m9/9\u001b[0m \u001b[32m━━━━━━━━━━━━━━━━━━━━\u001b[0m\u001b[37m\u001b[0m \u001b[1m0s\u001b[0m 15ms/step - accuracy: 1.0000 - loss: 0.0023 - val_accuracy: 0.7625 - val_loss: 0.6940\n",
            "Epoch 13/120\n",
            "\u001b[1m9/9\u001b[0m \u001b[32m━━━━━━━━━━━━━━━━━━━━\u001b[0m\u001b[37m\u001b[0m \u001b[1m0s\u001b[0m 13ms/step - accuracy: 1.0000 - loss: 0.0023 - val_accuracy: 0.7625 - val_loss: 0.6898\n",
            "Epoch 14/120\n",
            "\u001b[1m9/9\u001b[0m \u001b[32m━━━━━━━━━━━━━━━━━━━━\u001b[0m\u001b[37m\u001b[0m \u001b[1m0s\u001b[0m 12ms/step - accuracy: 1.0000 - loss: 0.0024 - val_accuracy: 0.7708 - val_loss: 0.6858\n",
            "Epoch 15/120\n",
            "\u001b[1m9/9\u001b[0m \u001b[32m━━━━━━━━━━━━━━━━━━━━\u001b[0m\u001b[37m\u001b[0m \u001b[1m0s\u001b[0m 12ms/step - accuracy: 1.0000 - loss: 0.0020 - val_accuracy: 0.7708 - val_loss: 0.6824\n",
            "Epoch 16/120\n",
            "\u001b[1m9/9\u001b[0m \u001b[32m━━━━━━━━━━━━━━━━━━━━\u001b[0m\u001b[37m\u001b[0m \u001b[1m0s\u001b[0m 13ms/step - accuracy: 1.0000 - loss: 0.0019 - val_accuracy: 0.7750 - val_loss: 0.6790\n",
            "Epoch 17/120\n",
            "\u001b[1m9/9\u001b[0m \u001b[32m━━━━━━━━━━━━━━━━━━━━\u001b[0m\u001b[37m\u001b[0m \u001b[1m0s\u001b[0m 12ms/step - accuracy: 1.0000 - loss: 0.0020 - val_accuracy: 0.7792 - val_loss: 0.6758\n",
            "Epoch 18/120\n",
            "\u001b[1m9/9\u001b[0m \u001b[32m━━━━━━━━━━━━━━━━━━━━\u001b[0m\u001b[37m\u001b[0m \u001b[1m0s\u001b[0m 13ms/step - accuracy: 1.0000 - loss: 0.0018 - val_accuracy: 0.7792 - val_loss: 0.6727\n",
            "Epoch 19/120\n",
            "\u001b[1m9/9\u001b[0m \u001b[32m━━━━━━━━━━━━━━━━━━━━\u001b[0m\u001b[37m\u001b[0m \u001b[1m0s\u001b[0m 15ms/step - accuracy: 1.0000 - loss: 0.0018 - val_accuracy: 0.7833 - val_loss: 0.6698\n",
            "Epoch 20/120\n",
            "\u001b[1m9/9\u001b[0m \u001b[32m━━━━━━━━━━━━━━━━━━━━\u001b[0m\u001b[37m\u001b[0m \u001b[1m0s\u001b[0m 13ms/step - accuracy: 1.0000 - loss: 0.0015 - val_accuracy: 0.7833 - val_loss: 0.6672\n",
            "Epoch 21/120\n",
            "\u001b[1m9/9\u001b[0m \u001b[32m━━━━━━━━━━━━━━━━━━━━\u001b[0m\u001b[37m\u001b[0m \u001b[1m0s\u001b[0m 13ms/step - accuracy: 1.0000 - loss: 0.0016 - val_accuracy: 0.7833 - val_loss: 0.6645\n",
            "Epoch 22/120\n",
            "\u001b[1m9/9\u001b[0m \u001b[32m━━━━━━━━━━━━━━━━━━━━\u001b[0m\u001b[37m\u001b[0m \u001b[1m0s\u001b[0m 13ms/step - accuracy: 1.0000 - loss: 0.0015 - val_accuracy: 0.7833 - val_loss: 0.6619\n",
            "Epoch 23/120\n",
            "\u001b[1m9/9\u001b[0m \u001b[32m━━━━━━━━━━━━━━━━━━━━\u001b[0m\u001b[37m\u001b[0m \u001b[1m0s\u001b[0m 13ms/step - accuracy: 1.0000 - loss: 0.0015 - val_accuracy: 0.7833 - val_loss: 0.6593\n",
            "Epoch 24/120\n",
            "\u001b[1m9/9\u001b[0m \u001b[32m━━━━━━━━━━━━━━━━━━━━\u001b[0m\u001b[37m\u001b[0m \u001b[1m0s\u001b[0m 12ms/step - accuracy: 1.0000 - loss: 0.0015 - val_accuracy: 0.7833 - val_loss: 0.6569\n",
            "Epoch 25/120\n",
            "\u001b[1m9/9\u001b[0m \u001b[32m━━━━━━━━━━━━━━━━━━━━\u001b[0m\u001b[37m\u001b[0m \u001b[1m0s\u001b[0m 16ms/step - accuracy: 1.0000 - loss: 0.0014 - val_accuracy: 0.7917 - val_loss: 0.6546\n",
            "Epoch 26/120\n",
            "\u001b[1m9/9\u001b[0m \u001b[32m━━━━━━━━━━━━━━━━━━━━\u001b[0m\u001b[37m\u001b[0m \u001b[1m0s\u001b[0m 13ms/step - accuracy: 1.0000 - loss: 0.0015 - val_accuracy: 0.7917 - val_loss: 0.6523\n",
            "Epoch 27/120\n",
            "\u001b[1m9/9\u001b[0m \u001b[32m━━━━━━━━━━━━━━━━━━━━\u001b[0m\u001b[37m\u001b[0m \u001b[1m0s\u001b[0m 12ms/step - accuracy: 1.0000 - loss: 0.0015 - val_accuracy: 0.7958 - val_loss: 0.6501\n",
            "Epoch 28/120\n",
            "\u001b[1m9/9\u001b[0m \u001b[32m━━━━━━━━━━━━━━━━━━━━\u001b[0m\u001b[37m\u001b[0m \u001b[1m0s\u001b[0m 13ms/step - accuracy: 1.0000 - loss: 0.0012 - val_accuracy: 0.7958 - val_loss: 0.6482\n",
            "Epoch 29/120\n",
            "\u001b[1m9/9\u001b[0m \u001b[32m━━━━━━━━━━━━━━━━━━━━\u001b[0m\u001b[37m\u001b[0m \u001b[1m0s\u001b[0m 12ms/step - accuracy: 1.0000 - loss: 0.0012 - val_accuracy: 0.8000 - val_loss: 0.6462\n",
            "Epoch 30/120\n",
            "\u001b[1m9/9\u001b[0m \u001b[32m━━━━━━━━━━━━━━━━━━━━\u001b[0m\u001b[37m\u001b[0m \u001b[1m0s\u001b[0m 12ms/step - accuracy: 1.0000 - loss: 0.0013 - val_accuracy: 0.8000 - val_loss: 0.6443\n",
            "Epoch 31/120\n",
            "\u001b[1m9/9\u001b[0m \u001b[32m━━━━━━━━━━━━━━━━━━━━\u001b[0m\u001b[37m\u001b[0m \u001b[1m0s\u001b[0m 16ms/step - accuracy: 1.0000 - loss: 0.0012 - val_accuracy: 0.8000 - val_loss: 0.6423\n",
            "Epoch 32/120\n",
            "\u001b[1m9/9\u001b[0m \u001b[32m━━━━━━━━━━━━━━━━━━━━\u001b[0m\u001b[37m\u001b[0m \u001b[1m0s\u001b[0m 12ms/step - accuracy: 1.0000 - loss: 0.0013 - val_accuracy: 0.8000 - val_loss: 0.6405\n",
            "Epoch 33/120\n",
            "\u001b[1m9/9\u001b[0m \u001b[32m━━━━━━━━━━━━━━━━━━━━\u001b[0m\u001b[37m\u001b[0m \u001b[1m0s\u001b[0m 16ms/step - accuracy: 1.0000 - loss: 0.0013 - val_accuracy: 0.8000 - val_loss: 0.6386\n",
            "Epoch 34/120\n",
            "\u001b[1m9/9\u001b[0m \u001b[32m━━━━━━━━━━━━━━━━━━━━\u001b[0m\u001b[37m\u001b[0m \u001b[1m0s\u001b[0m 12ms/step - accuracy: 1.0000 - loss: 0.0011 - val_accuracy: 0.8000 - val_loss: 0.6369\n",
            "Epoch 35/120\n",
            "\u001b[1m9/9\u001b[0m \u001b[32m━━━━━━━━━━━━━━━━━━━━\u001b[0m\u001b[37m\u001b[0m \u001b[1m0s\u001b[0m 12ms/step - accuracy: 1.0000 - loss: 0.0011 - val_accuracy: 0.8000 - val_loss: 0.6352\n",
            "Epoch 36/120\n",
            "\u001b[1m9/9\u001b[0m \u001b[32m━━━━━━━━━━━━━━━━━━━━\u001b[0m\u001b[37m\u001b[0m \u001b[1m0s\u001b[0m 12ms/step - accuracy: 1.0000 - loss: 0.0011 - val_accuracy: 0.8000 - val_loss: 0.6336\n",
            "Epoch 37/120\n",
            "\u001b[1m9/9\u001b[0m \u001b[32m━━━━━━━━━━━━━━━━━━━━\u001b[0m\u001b[37m\u001b[0m \u001b[1m0s\u001b[0m 13ms/step - accuracy: 1.0000 - loss: 0.0010 - val_accuracy: 0.8000 - val_loss: 0.6320\n",
            "Epoch 38/120\n",
            "\u001b[1m9/9\u001b[0m \u001b[32m━━━━━━━━━━━━━━━━━━━━\u001b[0m\u001b[37m\u001b[0m \u001b[1m0s\u001b[0m 16ms/step - accuracy: 1.0000 - loss: 9.7220e-04 - val_accuracy: 0.8000 - val_loss: 0.6304\n",
            "Epoch 39/120\n",
            "\u001b[1m9/9\u001b[0m \u001b[32m━━━━━━━━━━━━━━━━━━━━\u001b[0m\u001b[37m\u001b[0m \u001b[1m0s\u001b[0m 12ms/step - accuracy: 1.0000 - loss: 9.5203e-04 - val_accuracy: 0.8000 - val_loss: 0.6288\n",
            "Epoch 40/120\n",
            "\u001b[1m9/9\u001b[0m \u001b[32m━━━━━━━━━━━━━━━━━━━━\u001b[0m\u001b[37m\u001b[0m \u001b[1m0s\u001b[0m 12ms/step - accuracy: 1.0000 - loss: 9.7876e-04 - val_accuracy: 0.8000 - val_loss: 0.6273\n",
            "Epoch 41/120\n",
            "\u001b[1m9/9\u001b[0m \u001b[32m━━━━━━━━━━━━━━━━━━━━\u001b[0m\u001b[37m\u001b[0m \u001b[1m0s\u001b[0m 12ms/step - accuracy: 1.0000 - loss: 9.3106e-04 - val_accuracy: 0.8000 - val_loss: 0.6258\n",
            "Epoch 42/120\n",
            "\u001b[1m9/9\u001b[0m \u001b[32m━━━━━━━━━━━━━━━━━━━━\u001b[0m\u001b[37m\u001b[0m \u001b[1m0s\u001b[0m 13ms/step - accuracy: 1.0000 - loss: 8.5888e-04 - val_accuracy: 0.8000 - val_loss: 0.6243\n",
            "Epoch 43/120\n",
            "\u001b[1m9/9\u001b[0m \u001b[32m━━━━━━━━━━━━━━━━━━━━\u001b[0m\u001b[37m\u001b[0m \u001b[1m0s\u001b[0m 13ms/step - accuracy: 1.0000 - loss: 8.7069e-04 - val_accuracy: 0.8000 - val_loss: 0.6230\n",
            "Epoch 44/120\n",
            "\u001b[1m9/9\u001b[0m \u001b[32m━━━━━━━━━━━━━━━━━━━━\u001b[0m\u001b[37m\u001b[0m \u001b[1m0s\u001b[0m 16ms/step - accuracy: 1.0000 - loss: 9.4599e-04 - val_accuracy: 0.8042 - val_loss: 0.6215\n",
            "Epoch 45/120\n",
            "\u001b[1m9/9\u001b[0m \u001b[32m━━━━━━━━━━━━━━━━━━━━\u001b[0m\u001b[37m\u001b[0m \u001b[1m0s\u001b[0m 14ms/step - accuracy: 1.0000 - loss: 8.9022e-04 - val_accuracy: 0.8042 - val_loss: 0.6201\n",
            "Epoch 46/120\n",
            "\u001b[1m9/9\u001b[0m \u001b[32m━━━━━━━━━━━━━━━━━━━━\u001b[0m\u001b[37m\u001b[0m \u001b[1m0s\u001b[0m 12ms/step - accuracy: 1.0000 - loss: 9.0525e-04 - val_accuracy: 0.8042 - val_loss: 0.6187\n",
            "Epoch 47/120\n",
            "\u001b[1m9/9\u001b[0m \u001b[32m━━━━━━━━━━━━━━━━━━━━\u001b[0m\u001b[37m\u001b[0m \u001b[1m0s\u001b[0m 12ms/step - accuracy: 1.0000 - loss: 8.0027e-04 - val_accuracy: 0.8083 - val_loss: 0.6175\n",
            "Epoch 48/120\n",
            "\u001b[1m9/9\u001b[0m \u001b[32m━━━━━━━━━━━━━━━━━━━━\u001b[0m\u001b[37m\u001b[0m \u001b[1m0s\u001b[0m 12ms/step - accuracy: 1.0000 - loss: 8.0920e-04 - val_accuracy: 0.8083 - val_loss: 0.6162\n",
            "Epoch 49/120\n",
            "\u001b[1m9/9\u001b[0m \u001b[32m━━━━━━━━━━━━━━━━━━━━\u001b[0m\u001b[37m\u001b[0m \u001b[1m0s\u001b[0m 12ms/step - accuracy: 1.0000 - loss: 7.8585e-04 - val_accuracy: 0.8083 - val_loss: 0.6150\n",
            "Epoch 50/120\n",
            "\u001b[1m9/9\u001b[0m \u001b[32m━━━━━━━━━━━━━━━━━━━━\u001b[0m\u001b[37m\u001b[0m \u001b[1m0s\u001b[0m 13ms/step - accuracy: 1.0000 - loss: 8.9927e-04 - val_accuracy: 0.8083 - val_loss: 0.6138\n",
            "Epoch 51/120\n",
            "\u001b[1m9/9\u001b[0m \u001b[32m━━━━━━━━━━━━━━━━━━━━\u001b[0m\u001b[37m\u001b[0m \u001b[1m0s\u001b[0m 13ms/step - accuracy: 1.0000 - loss: 8.6176e-04 - val_accuracy: 0.8083 - val_loss: 0.6126\n",
            "Epoch 52/120\n",
            "\u001b[1m9/9\u001b[0m \u001b[32m━━━━━━━━━━━━━━━━━━━━\u001b[0m\u001b[37m\u001b[0m \u001b[1m0s\u001b[0m 13ms/step - accuracy: 1.0000 - loss: 7.8992e-04 - val_accuracy: 0.8083 - val_loss: 0.6115\n",
            "Epoch 53/120\n",
            "\u001b[1m9/9\u001b[0m \u001b[32m━━━━━━━━━━━━━━━━━━━━\u001b[0m\u001b[37m\u001b[0m \u001b[1m0s\u001b[0m 13ms/step - accuracy: 1.0000 - loss: 7.5950e-04 - val_accuracy: 0.8083 - val_loss: 0.6103\n",
            "Epoch 54/120\n",
            "\u001b[1m9/9\u001b[0m \u001b[32m━━━━━━━━━━━━━━━━━━━━\u001b[0m\u001b[37m\u001b[0m \u001b[1m0s\u001b[0m 13ms/step - accuracy: 1.0000 - loss: 7.8780e-04 - val_accuracy: 0.8083 - val_loss: 0.6092\n",
            "Epoch 55/120\n",
            "\u001b[1m9/9\u001b[0m \u001b[32m━━━━━━━━━━━━━━━━━━━━\u001b[0m\u001b[37m\u001b[0m \u001b[1m0s\u001b[0m 12ms/step - accuracy: 1.0000 - loss: 7.8956e-04 - val_accuracy: 0.8083 - val_loss: 0.6081\n",
            "Epoch 56/120\n",
            "\u001b[1m9/9\u001b[0m \u001b[32m━━━━━━━━━━━━━━━━━━━━\u001b[0m\u001b[37m\u001b[0m \u001b[1m0s\u001b[0m 13ms/step - accuracy: 1.0000 - loss: 6.5655e-04 - val_accuracy: 0.8083 - val_loss: 0.6071\n",
            "Epoch 57/120\n",
            "\u001b[1m9/9\u001b[0m \u001b[32m━━━━━━━━━━━━━━━━━━━━\u001b[0m\u001b[37m\u001b[0m \u001b[1m0s\u001b[0m 13ms/step - accuracy: 1.0000 - loss: 7.8414e-04 - val_accuracy: 0.8083 - val_loss: 0.6060\n",
            "Epoch 58/120\n",
            "\u001b[1m9/9\u001b[0m \u001b[32m━━━━━━━━━━━━━━━━━━━━\u001b[0m\u001b[37m\u001b[0m \u001b[1m0s\u001b[0m 13ms/step - accuracy: 1.0000 - loss: 6.9972e-04 - val_accuracy: 0.8083 - val_loss: 0.6050\n",
            "Epoch 59/120\n",
            "\u001b[1m9/9\u001b[0m \u001b[32m━━━━━━━━━━━━━━━━━━━━\u001b[0m\u001b[37m\u001b[0m \u001b[1m0s\u001b[0m 15ms/step - accuracy: 1.0000 - loss: 7.4675e-04 - val_accuracy: 0.8083 - val_loss: 0.6039\n",
            "Epoch 60/120\n",
            "\u001b[1m9/9\u001b[0m \u001b[32m━━━━━━━━━━━━━━━━━━━━\u001b[0m\u001b[37m\u001b[0m \u001b[1m0s\u001b[0m 13ms/step - accuracy: 1.0000 - loss: 7.2293e-04 - val_accuracy: 0.8083 - val_loss: 0.6029\n",
            "Epoch 61/120\n",
            "\u001b[1m9/9\u001b[0m \u001b[32m━━━━━━━━━━━━━━━━━━━━\u001b[0m\u001b[37m\u001b[0m \u001b[1m0s\u001b[0m 13ms/step - accuracy: 1.0000 - loss: 6.7356e-04 - val_accuracy: 0.8083 - val_loss: 0.6019\n",
            "Epoch 62/120\n",
            "\u001b[1m9/9\u001b[0m \u001b[32m━━━━━━━━━━━━━━━━━━━━\u001b[0m\u001b[37m\u001b[0m \u001b[1m0s\u001b[0m 13ms/step - accuracy: 1.0000 - loss: 7.0492e-04 - val_accuracy: 0.8083 - val_loss: 0.6009\n",
            "Epoch 63/120\n",
            "\u001b[1m9/9\u001b[0m \u001b[32m━━━━━━━━━━━━━━━━━━━━\u001b[0m\u001b[37m\u001b[0m \u001b[1m0s\u001b[0m 14ms/step - accuracy: 1.0000 - loss: 6.3159e-04 - val_accuracy: 0.8083 - val_loss: 0.5999\n",
            "Epoch 64/120\n",
            "\u001b[1m9/9\u001b[0m \u001b[32m━━━━━━━━━━━━━━━━━━━━\u001b[0m\u001b[37m\u001b[0m \u001b[1m0s\u001b[0m 13ms/step - accuracy: 1.0000 - loss: 6.3810e-04 - val_accuracy: 0.8083 - val_loss: 0.5990\n",
            "Epoch 65/120\n",
            "\u001b[1m9/9\u001b[0m \u001b[32m━━━━━━━━━━━━━━━━━━━━\u001b[0m\u001b[37m\u001b[0m \u001b[1m0s\u001b[0m 14ms/step - accuracy: 1.0000 - loss: 6.3873e-04 - val_accuracy: 0.8083 - val_loss: 0.5981\n",
            "Epoch 66/120\n",
            "\u001b[1m9/9\u001b[0m \u001b[32m━━━━━━━━━━━━━━━━━━━━\u001b[0m\u001b[37m\u001b[0m \u001b[1m0s\u001b[0m 13ms/step - accuracy: 1.0000 - loss: 6.2229e-04 - val_accuracy: 0.8083 - val_loss: 0.5972\n",
            "\n",
            " dict_keys(['accuracy', 'loss', 'val_accuracy', 'val_loss'])\n"
          ]
        }
      ],
      "source": [
        "# Start my training -\n",
        "batches, epoche, pazienza = 32, 120, 5\n",
        "storia = rete1.fit(data, y,\n",
        "                    batch_size=batches,\n",
        "                    epochs=epoche,\n",
        "                    validation_data=(data_val, y_val),\n",
        "                   callbacks=EarlyStopping(patience=pazienza, min_delta=0.005, restore_best_weights=True)\n",
        "                    ) #callbacks=EarlyStopping(patience=pazienza, min_delta=0.005, restore_best_weights=True)\n",
        "\n",
        "print(\"\\n\",storia.history.keys())"
      ]
    },
    {
      "cell_type": "markdown",
      "id": "f5cddce7",
      "metadata": {
        "id": "f5cddce7"
      },
      "source": [
        "# Plots of training history and test my network"
      ]
    },
    {
      "cell_type": "code",
      "execution_count": null,
      "id": "648a6825",
      "metadata": {
        "colab": {
          "base_uri": "https://localhost:8080/",
          "height": 507
        },
        "id": "648a6825",
        "outputId": "5ab7115a-23c1-413b-c098-3404478d4688"
      },
      "outputs": [
        {
          "data": {
            "image/png": "[encoded data removed]",
            "text/plain": [
              "<Figure size 1200x500 with 2 Axes>"
            ]
          },
          "metadata": {},
          "output_type": "display_data"
        }
      ],
      "source": [
        "\"\"\"################################################### Plots ####################################################\"\"\"\n",
        "\n",
        "loss_train = storia.history[\"loss\"]\n",
        "loss_val = storia.history[\"val_loss\"]\n",
        "acc_train = storia.history[\"accuracy\"]\n",
        "acc_val = storia.history[\"val_accuracy\"]\n",
        "\n",
        "# Create a figure with 2 subplots (1 row, 2 columns)\n",
        "fig, (ax1, ax2) = plt.subplots(1, 2, figsize=(12, 5))\n",
        "\n",
        "# Plot Accuracy on the first axis (ax1)\n",
        "ax1.plot(range(len(acc_train)), acc_train, label=\"acc_train\")\n",
        "ax1.plot(range(len(acc_val)), acc_val, label=\"acc_val\")\n",
        "ax1.set_xlabel('Epoch')\n",
        "ax1.set_ylabel('Accuracy')\n",
        "ax1.set_title('Accuracy vs Epoch')\n",
        "ax1.legend()\n",
        "\n",
        "# Plot Loss on the second axis (ax2)\n",
        "ax2.plot(range(len(loss_train)), loss_train, label=\"loss_train\")\n",
        "ax2.plot(range(len(loss_val)), loss_val, label=\"loss_val\")\n",
        "ax2.set_yscale('log')  # Log scale for loss\n",
        "ax2.set_xlabel('Epoch')\n",
        "ax2.set_ylabel('Loss (log scale)')\n",
        "ax2.set_title('Loss vs Epoch')\n",
        "ax2.legend()\n",
        "\n",
        "plt.tight_layout()\n",
        "\n",
        "\n",
        "plt.savefig(\"Loss_Accuracy_Ising2d.png\")\n",
        "\n",
        "# Show the plot\n",
        "plt.show()\n",
        "\n"
      ]
    },
    {
      "cell_type": "code",
      "execution_count": null,
      "id": "a011c0a1",
      "metadata": {
        "colab": {
          "base_uri": "https://localhost:8080/"
        },
        "id": "a011c0a1",
        "outputId": "5b93eab0-101f-4018-d6db-76b9c373bb23"
      },
      "outputs": [
        {
          "name": "stdout",
          "output_type": "stream",
          "text": [
            "\u001b[1m7/7\u001b[0m \u001b[32m━━━━━━━━━━━━━━━━━━━━\u001b[0m\u001b[37m\u001b[0m \u001b[1m0s\u001b[0m 5ms/step \n",
            "test predictions:\n",
            "total/correct/erroneous:\n",
            " 200 / 156 / 44 /\n",
            "test Accuracy=  0.78\n"
          ]
        }
      ],
      "source": [
        "\"\"\"################################################### Test ####################################################\"\"\"\n",
        "\n",
        " # make my predictions on the test set\n",
        "yp_test = rete1.predict(data_test)\n",
        "yp_ok_test = []\n",
        "for i in yp_test:\n",
        "    yp_ok_test.append(i[0])\n",
        "yp_ok_test = np.array(yp_ok_test)\n",
        "\n",
        "total_predictions = len(y_test)\n",
        "correct_predictions = 0\n",
        "erroneous_predictions = 0\n",
        "\n",
        "# calculating the total, erroneous and correct predictions\n",
        "for i in range(total_predictions):\n",
        "    if abs(y_test[i] - yp_ok_test[i]) < 0.5:\n",
        "        correct_predictions = correct_predictions + 1\n",
        "    else:\n",
        "        erroneous_predictions = erroneous_predictions + 1\n",
        "\n",
        "print(\"test predictions:\\ntotal/correct/erroneous:\\n\", total_predictions, \"/\", correct_predictions, \"/\", erroneous_predictions, \"/\")\n",
        "print(\"test Accuracy= \", correct_predictions / total_predictions)"
      ]
    },
    {
      "cell_type": "markdown",
      "id": "418f8d19",
      "metadata": {
        "id": "418f8d19"
      },
      "source": [
        "# Tests"
      ]
    },
    {
      "cell_type": "code",
      "execution_count": null,
      "id": "a4874e20",
      "metadata": {
        "id": "a4874e20",
        "outputId": "c69a983e-b262-4254-a0a0-25d934d1ff2b"
      },
      "outputs": [
        {
          "name": "stdout",
          "output_type": "stream",
          "text": [
            "[[-1. -1. -1. ... -1. -1. -1.]\n",
            " [-1. -1. -1. ... -1. -1. -1.]\n",
            " [-1. -1. -1. ... -1. -1. -1.]\n",
            " ...\n",
            " [-1. -1. -1. ... -1.  1. -1.]\n",
            " [-1. -1.  1. ... -1. -1.  1.]\n",
            " [ 1.  1. -1. ... -1. -1.  1.]]\n"
          ]
        }
      ],
      "source": [
        "import numpy as np\n",
        "from urllib.request import urlopen\n",
        "\n",
        "git_path = 'https://raw.githubusercontent.com/Nemenick/AIPHY24_GNN_Giagu/main/35conf10.dat'\n",
        "\n",
        "response = urlopen(git_path)\n",
        "data = np.loadtxt(response)\n",
        "\n",
        "print(data)"
      ]
    },
    {
      "cell_type": "code",
      "execution_count": null,
      "id": "bee2fa15",
      "metadata": {
        "id": "bee2fa15"
      },
      "outputs": [],
      "source": [
        "git_path = 'https://raw.githubusercontent.com/Nemenick/FCA_DeepNeuralNework-with-TensorFlow/main/'\n",
        "# if read_file I load my data than generating them! (files have to exist before I lunch this section)\n",
        "# file = open(git_path + str(n) + \"conf\" + str(ntrain) + \".dat\", \"r\")\n",
        "# file_y = open(git_path + str(n) + \"conf\" + str(ntrain) + \"y.dat\", \"r\")\n",
        "data = np.loadtxt(urlopen(git_path + str(n) + \"conf\" + str(ntrain) + \".dat\"))\n",
        "y = np.loadtxt(urlopen(git_path + str(n) + \"conf\" + str(ntrain) + \"y.dat\"))\n",
        "\n",
        "# file = open(git_path + str(n) + \"conf\" + str(nval) + \".dat\", \"r\")\n",
        "# file_y = open(str(n) + \"conf\" + str(nval) + \"y.dat\", \"r\")\n",
        "data_val = np.loadtxt(urlopen(git_path + str(n) + \"conf\" + str(nval) + \".dat\"))\n",
        "y_val = np.loadtxt(urlopen(git_path + str(n) + \"conf\" + str(nval) + \"y.dat\"))\n",
        "\n",
        "# file = open(git_path + str(n) + \"conf\" + str(ntest) + \".dat\", \"r\")\n",
        "# file_y = open(git_path + str(n) + \"conf\" + str(ntest) + \"y.dat\", \"r\")\n",
        "data_test = np.loadtxt(urlopen(git_path + str(n) + \"conf\" + str(ntest) + \".dat\"))\n",
        "y_test = np.loadtxt(urlopen(git_path + str(n) + \"conf\" + str(ntest) + \"y.dat\"))"
      ]
    },
    {
      "cell_type": "code",
      "execution_count": null,
      "id": "8d282542",
      "metadata": {
        "id": "8d282542",
        "outputId": "82835992-f584-4b34-ad03-4fce648df87d"
      },
      "outputs": [
        {
          "data": {
            "text/plain": [
              "'https://raw.githubusercontent.com/Nemenick/AIPHY24_GNN_Giagu/main/35conf10.dat'"
            ]
          },
          "execution_count": 15,
          "metadata": {},
          "output_type": "execute_result"
        }
      ],
      "source": [
        "git_path"
      ]
    },
    {
      "cell_type": "code",
      "execution_count": null,
      "id": "117ac0c8",
      "metadata": {
        "id": "117ac0c8",
        "outputId": "72298ca5-7ed4-4eb3-fded-f2b594e48066"
      },
      "outputs": [
        {
          "data": {
            "text/plain": [
              "<http.client.HTTPResponse at 0x228e0b24490>"
            ]
          },
          "execution_count": 12,
          "metadata": {},
          "output_type": "execute_result"
        }
      ],
      "source": [
        "response"
      ]
    }
  ],
  "metadata": {
    "colab": {
      "provenance": []
    },
    "kernelspec": {
      "display_name": "envpulito",
      "language": "python",
      "name": "python3"
    },
    "language_info": {
      "codemirror_mode": {
        "name": "ipython",
        "version": 3
      },
      "file_extension": ".py",
      "mimetype": "text/x-python",
      "name": "python",
      "nbconvert_exporter": "python",
      "pygments_lexer": "ipython3",
      "version": "3.8.18"
    }
  },
  "nbformat": 4,
  "nbformat_minor": 5
}